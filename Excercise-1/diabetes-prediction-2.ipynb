{
 "cells": [
  {
   "cell_type": "code",
   "id": "initial_id",
   "metadata": {
    "collapsed": true,
    "ExecuteTime": {
     "end_time": "2025-10-19T16:59:58.241777Z",
     "start_time": "2025-10-19T16:59:58.239925Z"
    }
   },
   "source": [
    "import matplotlib.pyplot as plt\n",
    "import numpy as np\n",
    "import pandas as pd\n",
    "from sklearn.linear_model import LinearRegression\n",
    "from sklearn.metrics import mean_squared_error, mean_absolute_error\n",
    "from sklearn.model_selection import train_test_split\n",
    "from sklearn.impute import SimpleImputer\n"
   ],
   "outputs": [],
   "execution_count": 26
  },
  {
   "metadata": {},
   "cell_type": "markdown",
   "source": "# Ερώτημα 1",
   "id": "9431e2740c1152c2"
  },
  {
   "metadata": {
    "ExecuteTime": {
     "end_time": "2025-10-19T16:59:58.259579Z",
     "start_time": "2025-10-19T16:59:58.250959Z"
    }
   },
   "cell_type": "code",
   "source": [
    "df = pd.read_csv('diabetes.csv')\n",
    "input_df = df[['Pregnancies', 'BloodPressure', 'BMI', 'Age']]\n",
    "targets_df = df['Glucose']\n",
    "\n",
    "# Διόρθωση ακυρων τιμών\n",
    "input_df = input_df.copy()\n",
    "input_df['BloodPressure'] = input_df['BloodPressure'].replace(0, np.nan)\n",
    "input_df['BMI'] = input_df['BMI'].replace(0, np.nan)\n",
    "imputer = SimpleImputer(strategy='median')\n",
    "input_df[['BloodPressure', 'BMI']] = imputer.fit_transform(input_df[['BloodPressure', 'BMI']])\n",
    "\n",
    "# Κανονικοποιηση\n",
    "input_df_normalized = (input_df - input_df.min()) / (input_df.max() - input_df.min())\n",
    "x_normalized = input_df_normalized.to_numpy()\n",
    "\n",
    "x = input_df.to_numpy()\n",
    "y = targets_df.to_numpy()\n",
    "\n",
    "seed = 0\n",
    "test_size = 0.3\n",
    "\n",
    "x_train, x_test, y_train, y_test = train_test_split(x, y, test_size=test_size, random_state=seed)\n"
   ],
   "id": "e608e1db07eacf01",
   "outputs": [],
   "execution_count": 27
  },
  {
   "metadata": {},
   "cell_type": "markdown",
   "source": "# Ερώτημα 2",
   "id": "cf6ca32c51f7e125"
  },
  {
   "metadata": {
    "ExecuteTime": {
     "end_time": "2025-10-19T17:00:35.274518Z",
     "start_time": "2025-10-19T17:00:35.266990Z"
    }
   },
   "cell_type": "code",
   "source": [
    "model = LinearRegression()\n",
    "model.fit(x_train, y_train)\n",
    "\n",
    "y_pred = model.predict(x_test)\n",
    "\n",
    "mse = mean_squared_error(y_test, y_pred)\n",
    "mae = mean_absolute_error(y_test, y_pred)\n",
    "r2 = model.score(x_test, y_test)\n",
    "\n",
    "print(\"Mean Squared Error: \", mse)\n",
    "print(\"Mean Absolute Error: \", mae)"
   ],
   "id": "8169be5cec81b97",
   "outputs": [
    {
     "name": "stdout",
     "output_type": "stream",
     "text": [
      "Mean Squared Error:  918.593768059542\n",
      "Mean Absolute Error:  23.206084156470755\n"
     ]
    }
   ],
   "execution_count": 29
  },
  {
   "metadata": {},
   "cell_type": "markdown",
   "source": "Η καταλληλοτερη μετρική για την συγκεκριμένη εφαρμογή θεωρώ πως είναι το μέσο τετραγωνικό σφάλμα (MSE), καθώς επηρεάζεται περισσότερο από μεγάλα σφάλματα, που σε μια ιατρική εφαρμογή όπως αυτή θα μπορούσαν να έχουν σοβαρές συνέπειες.",
   "id": "fe8a1f49c50144d1"
  }
 ],
 "metadata": {
  "kernelspec": {
   "display_name": "Python 3",
   "language": "python",
   "name": "python3"
  },
  "language_info": {
   "codemirror_mode": {
    "name": "ipython",
    "version": 2
   },
   "file_extension": ".py",
   "mimetype": "text/x-python",
   "name": "python",
   "nbconvert_exporter": "python",
   "pygments_lexer": "ipython2",
   "version": "2.7.6"
  }
 },
 "nbformat": 4,
 "nbformat_minor": 5
}
