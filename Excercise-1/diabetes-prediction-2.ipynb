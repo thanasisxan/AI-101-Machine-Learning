{
 "cells": [
  {
   "cell_type": "code",
   "id": "initial_id",
   "metadata": {
    "collapsed": true,
    "ExecuteTime": {
     "end_time": "2025-10-19T17:38:37.841869Z",
     "start_time": "2025-10-19T17:38:37.838946Z"
    }
   },
   "source": [
    "\n",
    "import numpy as np\n",
    "import pandas as pd\n",
    "from sklearn.impute import SimpleImputer\n",
    "from sklearn.linear_model import LinearRegression\n",
    "from sklearn.metrics import mean_squared_error, mean_absolute_error\n",
    "from sklearn.model_selection import train_test_split\n"
   ],
   "outputs": [],
   "execution_count": 94
  },
  {
   "metadata": {},
   "cell_type": "markdown",
   "source": "# Ερώτημα 1",
   "id": "9431e2740c1152c2"
  },
  {
   "metadata": {
    "ExecuteTime": {
     "end_time": "2025-10-19T17:38:37.862073Z",
     "start_time": "2025-10-19T17:38:37.851859Z"
    }
   },
   "cell_type": "code",
   "source": [
    "df = pd.read_csv('diabetes.csv')\n",
    "input_df = df[['Pregnancies', 'BloodPressure', 'BMI', 'Age']]\n",
    "targets_df = df['Glucose']\n",
    "\n",
    "# Διόρθωση ακυρων τιμών\n",
    "input_df = input_df.copy()\n",
    "input_df['BloodPressure'] = input_df['BloodPressure'].replace(0, np.nan)\n",
    "input_df['BMI'] = input_df['BMI'].replace(0, np.nan)\n",
    "imputer = SimpleImputer(strategy='median')\n",
    "input_df[['BloodPressure', 'BMI']] = imputer.fit_transform(input_df[['BloodPressure', 'BMI']])\n",
    "\n",
    "# Κανονικοποιηση\n",
    "input_df_normalized = (input_df - input_df.min()) / (input_df.max() - input_df.min())\n",
    "\n",
    "x_normalized = input_df_normalized.to_numpy()\n",
    "y = targets_df.to_numpy()\n",
    "\n",
    "seed = 0\n",
    "test_size = 0.3\n",
    "\n",
    "x_train, x_test, y_train, y_test = train_test_split(x_normalized, y, test_size=test_size, random_state=seed)\n"
   ],
   "id": "e608e1db07eacf01",
   "outputs": [],
   "execution_count": 95
  },
  {
   "metadata": {},
   "cell_type": "markdown",
   "source": "# Ερώτημα 2",
   "id": "cf6ca32c51f7e125"
  },
  {
   "metadata": {
    "ExecuteTime": {
     "end_time": "2025-10-19T17:38:37.872594Z",
     "start_time": "2025-10-19T17:38:37.868582Z"
    }
   },
   "cell_type": "code",
   "source": [
    "model = LinearRegression()\n",
    "model.fit(x_train, y_train)\n",
    "\n",
    "y_pred = model.predict(x_test)\n",
    "\n",
    "mse = mean_squared_error(y_test, y_pred)\n",
    "mae = mean_absolute_error(y_test, y_pred)\n",
    "r2 = model.score(x_test, y_test)\n",
    "\n",
    "print(\"Mean Squared Error: \", mse)\n",
    "print(\"Mean Absolute Error: \", mae)"
   ],
   "id": "8169be5cec81b97",
   "outputs": [
    {
     "name": "stdout",
     "output_type": "stream",
     "text": [
      "Mean Squared Error:  918.5937680595416\n",
      "Mean Absolute Error:  23.20608415647075\n"
     ]
    }
   ],
   "execution_count": 96
  },
  {
   "metadata": {},
   "cell_type": "markdown",
   "source": "Η καταλληλοτερη μετρική για την συγκεκριμένη εφαρμογή θεωρώ πως είναι το μέσο τετραγωνικό σφάλμα (MSE), καθώς επηρεάζεται περισσότερο από μεγάλα σφάλματα, που σε μια ιατρική εφαρμογή όπως αυτή θα μπορούσαν να έχουν σοβαρές συνέπειες.",
   "id": "fe8a1f49c50144d1"
  },
  {
   "metadata": {},
   "cell_type": "markdown",
   "source": "# Ερώτημα 3",
   "id": "79986ca569fe095"
  },
  {
   "metadata": {
    "ExecuteTime": {
     "end_time": "2025-10-19T17:38:37.894066Z",
     "start_time": "2025-10-19T17:38:37.885258Z"
    }
   },
   "cell_type": "code",
   "source": [
    "lamda_mse_dict = {\n",
    "    0.2: None,\n",
    "    0.4: None,\n",
    "    0.6: None,\n",
    "    0.8: None,\n",
    "    1.0: None\n",
    "}\n",
    "for l in lamda_mse_dict.keys():\n",
    "    model3 = Lasso(alpha=l, random_state=seed)\n",
    "    model3.fit(x_train, y_train)\n",
    "    y_pred3 = model3.predict(x_test)\n",
    "    mse3 = mean_squared_error(y_test, y_pred3)\n",
    "    lamda_mse_dict[l] = mse3\n",
    "\n",
    "results_df = pd.DataFrame.from_dict(lamda_mse_dict, orient='index', columns=['MSE'])\n",
    "results_df.reset_index(inplace=True)\n",
    "results_df.columns = ['λ', 'MSE']\n",
    "results_df"
   ],
   "id": "189ff1ef78342d8",
   "outputs": [
    {
     "data": {
      "text/plain": [
       "     λ         MSE\n",
       "0  0.2  913.821983\n",
       "1  0.4  916.679843\n",
       "2  0.6  918.462257\n",
       "3  0.8  926.142164\n",
       "4  1.0  939.719566"
      ],
      "text/html": [
       "<div>\n",
       "<style scoped>\n",
       "    .dataframe tbody tr th:only-of-type {\n",
       "        vertical-align: middle;\n",
       "    }\n",
       "\n",
       "    .dataframe tbody tr th {\n",
       "        vertical-align: top;\n",
       "    }\n",
       "\n",
       "    .dataframe thead th {\n",
       "        text-align: right;\n",
       "    }\n",
       "</style>\n",
       "<table border=\"1\" class=\"dataframe\">\n",
       "  <thead>\n",
       "    <tr style=\"text-align: right;\">\n",
       "      <th></th>\n",
       "      <th>λ</th>\n",
       "      <th>MSE</th>\n",
       "    </tr>\n",
       "  </thead>\n",
       "  <tbody>\n",
       "    <tr>\n",
       "      <th>0</th>\n",
       "      <td>0.2</td>\n",
       "      <td>913.821983</td>\n",
       "    </tr>\n",
       "    <tr>\n",
       "      <th>1</th>\n",
       "      <td>0.4</td>\n",
       "      <td>916.679843</td>\n",
       "    </tr>\n",
       "    <tr>\n",
       "      <th>2</th>\n",
       "      <td>0.6</td>\n",
       "      <td>918.462257</td>\n",
       "    </tr>\n",
       "    <tr>\n",
       "      <th>3</th>\n",
       "      <td>0.8</td>\n",
       "      <td>926.142164</td>\n",
       "    </tr>\n",
       "    <tr>\n",
       "      <th>4</th>\n",
       "      <td>1.0</td>\n",
       "      <td>939.719566</td>\n",
       "    </tr>\n",
       "  </tbody>\n",
       "</table>\n",
       "</div>"
      ]
     },
     "execution_count": 97,
     "metadata": {},
     "output_type": "execute_result"
    }
   ],
   "execution_count": 97
  },
  {
   "metadata": {},
   "cell_type": "markdown",
   "source": "# Ερώτημα 4",
   "id": "b87c157a53aec2cb"
  },
  {
   "metadata": {
    "ExecuteTime": {
     "end_time": "2025-10-19T17:38:37.925192Z",
     "start_time": "2025-10-19T17:38:37.920944Z"
    }
   },
   "cell_type": "code",
   "source": [
    "coef_df = pd.DataFrame({\n",
    "    'Feature': input_df.columns,\n",
    "    'Coefficient': model.coef_\n",
    "})\n",
    "coef_df['Absolute Coefficient'] = coef_df['Coefficient'].abs()\n",
    "coef_df_sorted = coef_df.sort_values(by='Absolute Coefficient', ascending=True)\n",
    "least_important_feature = coef_df_sorted.iloc[0]['Feature']\n",
    "print(\"Least important feature: \", least_important_feature)\n",
    "\n",
    "input_df_without_pregnancies = input_df_normalized.drop(columns=['Pregnancies'])\n",
    "x_without_pregnancies = input_df_without_pregnancies.to_numpy()\n",
    "\n",
    "x_train4, x_test4, y_train4, y_test4 = train_test_split(x_without_pregnancies, y, test_size=test_size,\n",
    "                                                        random_state=seed)\n",
    "model4 = LinearRegression()\n",
    "model4.fit(x_train4, y_train4)\n",
    "y_pred4 = model4.predict(x_test4)\n",
    "mse4 = mean_squared_error(y_test4, y_pred4)\n",
    "print(\"MSE without 'Pregnancies' feature: \", mse4)\n",
    "print(\"MSE with 'Pregnancies' feature: \", mse)"
   ],
   "id": "e7242376b4c42cb4",
   "outputs": [
    {
     "name": "stdout",
     "output_type": "stream",
     "text": [
      "Least important feature:  Pregnancies\n",
      "MSE without 'Pregnancies' feature:  919.6372349598458\n",
      "MSE with 'Pregnancies' feature:  918.5937680595416\n"
     ]
    }
   ],
   "execution_count": 98
  },
  {
   "metadata": {},
   "cell_type": "markdown",
   "source": "",
   "id": "ac1f79f5068d364c"
  }
 ],
 "metadata": {
  "kernelspec": {
   "display_name": "Python 3",
   "language": "python",
   "name": "python3"
  },
  "language_info": {
   "codemirror_mode": {
    "name": "ipython",
    "version": 2
   },
   "file_extension": ".py",
   "mimetype": "text/x-python",
   "name": "python",
   "nbconvert_exporter": "python",
   "pygments_lexer": "ipython2",
   "version": "2.7.6"
  }
 },
 "nbformat": 4,
 "nbformat_minor": 5
}
